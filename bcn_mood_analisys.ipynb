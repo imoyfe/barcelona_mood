{
 "metadata": {
  "language_info": {
   "codemirror_mode": {
    "name": "ipython",
    "version": 3
   },
   "file_extension": ".py",
   "mimetype": "text/x-python",
   "name": "python",
   "nbconvert_exporter": "python",
   "pygments_lexer": "ipython3",
   "version": "3.7.6-final"
  },
  "orig_nbformat": 2,
  "kernelspec": {
   "name": "python3",
   "display_name": "Python 3"
  }
 },
 "nbformat": 4,
 "nbformat_minor": 2,
 "cells": [
  {
   "source": [
    "## Mood analysis in Barcelona"
   ],
   "cell_type": "markdown",
   "metadata": {}
  },
  {
   "cell_type": "code",
   "execution_count": 5,
   "metadata": {},
   "outputs": [
    {
     "output_type": "stream",
     "name": "stdout",
     "text": [
      "The autoreload extension is already loaded. To reload it, use:\n  %reload_ext autoreload\n"
     ]
    }
   ],
   "source": [
    "# Imports\n",
    "\n",
    "from classifier import *\n",
    "clf = SentimentClassifier()\n",
    "\n",
    "import pandas as pd\n",
    "import sklearn\n",
    "import missingno as msno\n",
    "import math\n",
    "import csv\n",
    "from keplergl import KeplerGl\n",
    "import geopandas as gpd\n",
    "from shapely.geometry import Point\n",
    "from shapely.geometry.polygon import Polygon\n",
    "\n",
    "import warnings\n",
    "warnings.filterwarnings('ignore')\n",
    "%matplotlib inline\n",
    "%load_ext autoreload\n",
    "%autoreload 2\n"
   ]
  },
  {
   "cell_type": "code",
   "execution_count": 63,
   "metadata": {},
   "outputs": [
    {
     "output_type": "stream",
     "name": "stderr",
     "text": [
      "[nltk_data] Downloading package punkt to /home/irene/nltk_data...\n[nltk_data]   Package punkt is already up-to-date!\n[nltk_data] Downloading package stopwords to /home/irene/nltk_data...\n[nltk_data]   Package stopwords is already up-to-date!\n"
     ]
    }
   ],
   "source": [
    "# Tokenizing and removing stopwords functions.\n",
    "\n",
    "import nltk\n",
    "nltk.download('punkt')\n",
    "from nltk.tokenize import word_tokenize\n",
    "import unicodedata\n",
    "from nltk.corpus import stopwords\n",
    "nltk.download('stopwords')\n",
    "import string\n",
    "\n",
    "en_stop_words = set(stopwords.words('english'))\n",
    "es_stop_words = set(stopwords.words('spanish'))\n",
    "\n",
    "def clean_en_text(quote):\n",
    "  words = quote.split()\n",
    "  words = [word.lower() for word in words if (word.isalpha() and word not in en_stop_words and word != \"\\n\" and word != \"rt\")]\n",
    "  return (\" \").join(words)\n",
    "\n",
    "def clean_es_text(quote):\n",
    "  words = quote.split()\n",
    "  words = [word.lower() for word in words if (word.isalpha() and word not in es_stop_words and word != \"\\n\" and word != \"rt\")]\n",
    "  return (\" \").join(words)\n"
   ]
  },
  {
   "cell_type": "code",
   "execution_count": 7,
   "metadata": {},
   "outputs": [],
   "source": [
    "# ENGLISH SENTIMENT ANALYSIS with VADER:\n",
    "\n",
    "from vaderSentiment.vaderSentiment import SentimentIntensityAnalyzer\n",
    "analyser = SentimentIntensityAnalyzer()\n",
    "\n",
    "def sentiment_analyzer_scores(sentence):\n",
    "    score = analyser.polarity_scores(sentence)\n",
    "    return score\n",
    "    #print(\"{:-<40} {}\".format(sentence, str(score)))\n",
    "  \n",
    "\n",
    "# Getting only the negative score\n",
    "def negative_score(text):\n",
    "    negative_value = analyser.polarity_scores(text)['neg']\n",
    "    return negative_value\n",
    "\n",
    "# Getting only the neutral score\n",
    "def neutral_score(text):\n",
    "    neutral_value = analyser.polarity_scores(text)['neu']\n",
    "    return neutral_value\n",
    "\n",
    "# Getting only the positive score\n",
    "def positive_score(text):\n",
    "    positive_value = analyser.polarity_scores(text)['pos']\n",
    "    return positive_value\n",
    "   \n",
    "\n",
    "# Assigning a value according to sentiment\n",
    "def sentiment_classifier(text):\n",
    "    \"\"\"\n",
    "    English sentiment model gives three diferent scores between 0 and 1, for negative, positive and neutral comments.\n",
    "    We decided to compare \"positive\" and \"negative\" scores and, in case they were equal, then consider it as \"neutral\".\n",
    "    \"\"\"\n",
    "    VADER_sent_en = []\n",
    "    sentiment_scores = {\"neg\":0, \"pos\":1, \"neu\":2}\n",
    "    for item in text:\n",
    "        if negative_score(item) > positive_score(item):\n",
    "            VADER_sent_en.append(sentiment_scores[\"neg\"])\n",
    "        elif negative_score(item) < positive_score(item):\n",
    "            VADER_sent_en.append(sentiment_scores[\"pos\"])\n",
    "        else:\n",
    "            VADER_sent_en.append(sentiment_scores[\"neu\"])\n",
    "    \n",
    "    return VADER_sent_en\n"
   ]
  },
  {
   "cell_type": "code",
   "execution_count": 8,
   "metadata": {},
   "outputs": [],
   "source": [
    "# SPANISH SENTIMENT ANALISYS with SENTY:\n",
    "\n",
    "from classifier import *\n",
    "clf = SentimentClassifier()\n",
    "\n",
    "\n",
    "def senty_classifier_es(text):\n",
    "    \"\"\"\n",
    "    Spanish sentiment model gives a score between 0 and 1, Being 0 the most \"negative\" score and 1 the most \"positive\" score.\n",
    "    We decided to take all scores between 0.4 and 0.6 as to be \"neutral\".\n",
    "    \"\"\"\n",
    "    SENTY_sent_es = []\n",
    "    sentiment_scores = {\"neg\":0, \"pos\":1, \"neu\":2}\n",
    "    max_neg_score = 0.4\n",
    "    min_pos_score = 0.6\n",
    "    if type(text)!=float:\n",
    "        if clf.predict(text) < max_neg_score:\n",
    "            SENTY_sent_es.append(sentiment_scores[\"neg\"])\n",
    "        elif clf.predict(text) > min_pos_score:\n",
    "            SENTY_sent_es.append(sentiment_scores[\"pos\"])\n",
    "        else:\n",
    "            SENTY_sent_es.append(sentiment_scores[\"neu\"])\n",
    "    else:\n",
    "        SENTY_sent_es.append(sentiment_scores[\"neu\"])\n",
    "    \n",
    "    return SENTY_sent_es\n"
   ]
  },
  {
   "cell_type": "code",
   "execution_count": 80,
   "metadata": {},
   "outputs": [
    {
     "output_type": "execute_result",
     "data": {
      "text/plain": [
       "  ID_ANNEX ANNEXDESCR ID_TEMA               TEMA_DESCR ID_CONJUNT CONJ_DESCR  \\\n",
       "0       01   Grup - I    0104  Unitats Administratives     010413     Barris   \n",
       "1       01   Grup - I    0104  Unitats Administratives     010413     Barris   \n",
       "\n",
       "  ID_SUBCONJ SCONJ_DESC  ID_ELEMENT      ELEM_DESCR  ... ESTIL_ID ESTIL_QGIS  \\\n",
       "0   01041301      Barri  0104130101  Límit de barri  ...        0      Sòlid   \n",
       "1   01041301      Barri  0104130101  Límit de barri  ...        0      Sòlid   \n",
       "\n",
       "  VALOR1QGIS VALOR2QGIS COL_FARCIT FCOL_DESCR FHEX_COLOR COL_DESCR HEX_COLOR7  \\\n",
       "0          0          0         41       NULL    #E66900      NULL    #73A88F   \n",
       "1          0          0         41       NULL    #E66900      NULL    #73A88F   \n",
       "\n",
       "                                            geometry  \n",
       "0  POLYGON ((2.16471 41.38593, 2.16936 41.38554, ...  \n",
       "1  POLYGON ((2.17701 41.38525, 2.17873 41.38396, ...  \n",
       "\n",
       "[2 rows x 47 columns]"
      ],
      "text/html": "<div>\n<style scoped>\n    .dataframe tbody tr th:only-of-type {\n        vertical-align: middle;\n    }\n\n    .dataframe tbody tr th {\n        vertical-align: top;\n    }\n\n    .dataframe thead th {\n        text-align: right;\n    }\n</style>\n<table border=\"1\" class=\"dataframe\">\n  <thead>\n    <tr style=\"text-align: right;\">\n      <th></th>\n      <th>ID_ANNEX</th>\n      <th>ANNEXDESCR</th>\n      <th>ID_TEMA</th>\n      <th>TEMA_DESCR</th>\n      <th>ID_CONJUNT</th>\n      <th>CONJ_DESCR</th>\n      <th>ID_SUBCONJ</th>\n      <th>SCONJ_DESC</th>\n      <th>ID_ELEMENT</th>\n      <th>ELEM_DESCR</th>\n      <th>...</th>\n      <th>ESTIL_ID</th>\n      <th>ESTIL_QGIS</th>\n      <th>VALOR1QGIS</th>\n      <th>VALOR2QGIS</th>\n      <th>COL_FARCIT</th>\n      <th>FCOL_DESCR</th>\n      <th>FHEX_COLOR</th>\n      <th>COL_DESCR</th>\n      <th>HEX_COLOR7</th>\n      <th>geometry</th>\n    </tr>\n  </thead>\n  <tbody>\n    <tr>\n      <th>0</th>\n      <td>01</td>\n      <td>Grup - I</td>\n      <td>0104</td>\n      <td>Unitats Administratives</td>\n      <td>010413</td>\n      <td>Barris</td>\n      <td>01041301</td>\n      <td>Barri</td>\n      <td>0104130101</td>\n      <td>Límit de barri</td>\n      <td>...</td>\n      <td>0</td>\n      <td>Sòlid</td>\n      <td>0</td>\n      <td>0</td>\n      <td>41</td>\n      <td>NULL</td>\n      <td>#E66900</td>\n      <td>NULL</td>\n      <td>#73A88F</td>\n      <td>POLYGON ((2.16471 41.38593, 2.16936 41.38554, ...</td>\n    </tr>\n    <tr>\n      <th>1</th>\n      <td>01</td>\n      <td>Grup - I</td>\n      <td>0104</td>\n      <td>Unitats Administratives</td>\n      <td>010413</td>\n      <td>Barris</td>\n      <td>01041301</td>\n      <td>Barri</td>\n      <td>0104130101</td>\n      <td>Límit de barri</td>\n      <td>...</td>\n      <td>0</td>\n      <td>Sòlid</td>\n      <td>0</td>\n      <td>0</td>\n      <td>41</td>\n      <td>NULL</td>\n      <td>#E66900</td>\n      <td>NULL</td>\n      <td>#73A88F</td>\n      <td>POLYGON ((2.17701 41.38525, 2.17873 41.38396, ...</td>\n    </tr>\n  </tbody>\n</table>\n<p>2 rows × 47 columns</p>\n</div>"
     },
     "metadata": {},
     "execution_count": 80
    }
   ],
   "source": [
    "# Importing the datasets:\n",
    "\n",
    "path_to_file0 = './data/coronavirus_data.csv'\n",
    "data = pd.read_csv(path_to_file0, encoding= \"utf-8\")\n",
    "\n",
    "# Load Barcelona neighborhood coordinates:\n",
    "barris = \"./data/bcn-barris.geojson\"\n",
    "map_data = gpd.read_file(barris)\n",
    "map_data.head(2)"
   ]
  },
  {
   "cell_type": "code",
   "execution_count": 81,
   "metadata": {},
   "outputs": [
    {
     "output_type": "stream",
     "name": "stdout",
     "text": [
      "(475, 6)\nIndex(['location', 'followers', 'comments', 'coordinates', 'language',\n       'geometry'],\n      dtype='object')\n"
     ]
    },
    {
     "output_type": "execute_result",
     "data": {
      "text/plain": [
       "  location  followers                                           comments  \\\n",
       "0      NaN        243  RT @StevePieczenik: #Dominion \\n#DominionVotin...   \n",
       "1      NaN        114  RT @StevePieczenik: #Dominion \\n#DominionVotin...   \n",
       "\n",
       "  coordinates language geometry  \n",
       "0         NaN      und      NaN  \n",
       "1         NaN      und      NaN  "
      ],
      "text/html": "<div>\n<style scoped>\n    .dataframe tbody tr th:only-of-type {\n        vertical-align: middle;\n    }\n\n    .dataframe tbody tr th {\n        vertical-align: top;\n    }\n\n    .dataframe thead th {\n        text-align: right;\n    }\n</style>\n<table border=\"1\" class=\"dataframe\">\n  <thead>\n    <tr style=\"text-align: right;\">\n      <th></th>\n      <th>location</th>\n      <th>followers</th>\n      <th>comments</th>\n      <th>coordinates</th>\n      <th>language</th>\n      <th>geometry</th>\n    </tr>\n  </thead>\n  <tbody>\n    <tr>\n      <th>0</th>\n      <td>NaN</td>\n      <td>243</td>\n      <td>RT @StevePieczenik: #Dominion \\n#DominionVotin...</td>\n      <td>NaN</td>\n      <td>und</td>\n      <td>NaN</td>\n    </tr>\n    <tr>\n      <th>1</th>\n      <td>NaN</td>\n      <td>114</td>\n      <td>RT @StevePieczenik: #Dominion \\n#DominionVotin...</td>\n      <td>NaN</td>\n      <td>und</td>\n      <td>NaN</td>\n    </tr>\n  </tbody>\n</table>\n</div>"
     },
     "metadata": {},
     "execution_count": 81
    }
   ],
   "source": [
    "print(data.shape)\n",
    "print(data.columns)\n",
    "data.head(2)"
   ]
  },
  {
   "cell_type": "code",
   "execution_count": 82,
   "metadata": {},
   "outputs": [
    {
     "output_type": "stream",
     "name": "stdout",
     "text": [
      "en     227\nes     138\nca      79\nund     10\ntr       5\nin       4\npt       2\nde       2\nsv       2\nht       1\npl       1\nfr       1\nnl       1\nro       1\nit       1\nName: language, dtype: int64\n"
     ]
    }
   ],
   "source": [
    "print(data[\"language\"].value_counts())\n"
   ]
  },
  {
   "source": [
    "### We will focus on English and Spanish tweets since we have more of them."
   ],
   "cell_type": "markdown",
   "metadata": {}
  },
  {
   "cell_type": "code",
   "execution_count": 83,
   "metadata": {},
   "outputs": [
    {
     "output_type": "display_data",
     "data": {
      "text/plain": "<Figure size 1800x720 with 2 Axes>",
      "image/svg+xml": "<?xml version=\"1.0\" encoding=\"utf-8\" standalone=\"no\"?>\n<!DOCTYPE svg PUBLIC \"-//W3C//DTD SVG 1.1//EN\"\n  \"http://www.w3.org/Graphics/SVG/1.1/DTD/svg11.dtd\">\n<!-- Created with matplotlib (https://matplotlib.org/) -->\n<svg height=\"653.5696pt\" version=\"1.1\" viewBox=\"0 0 1463.4825 653.5696\" width=\"1463.4825pt\" xmlns=\"http://www.w3.org/2000/svg\" xmlns:xlink=\"http://www.w3.org/1999/xlink\">\n <defs>\n  <style type=\"text/css\">\n*{stroke-linecap:butt;stroke-linejoin:round;}\n  </style>\n </defs>\n <g id=\"figure_1\">\n  <g id=\"patch_1\">\n   <path d=\"M 0 653.5696 \nL 1463.4825 653.5696 \nL 1463.4825 0 \nL 0 0 \nz\n\" style=\"fill:none;\"/>\n  </g>\n  <g id=\"axes_1\">\n   <g id=\"patch_2\">\n    <path d=\"M 1363.540865 635.183998 \nL 1447.375 635.183998 \nL 1447.375 91.583998 \nL 1363.540865 91.583998 \nz\n\" style=\"fill:#ffffff;\"/>\n   </g>\n   <g id=\"matplotlib.axis_1\"/>\n   <g id=\"matplotlib.axis_2\"/>\n   <g id=\"line2d_1\">\n    <path clip-path=\"url(#p1cd90a54bb)\" d=\"M 1423.42239 635.183998 \nL 1411.446085 634.037163 \nL 1423.42239 632.890327 \nL 1423.42239 630.596657 \nL 1411.446085 629.449821 \nL 1423.42239 628.302986 \nL 1423.42239 616.834631 \nL 1411.446085 615.687796 \nL 1423.42239 614.54096 \nL 1411.446085 613.394125 \nL 1423.42239 612.24729 \nL 1411.446085 611.100454 \nL 1423.42239 609.953619 \nL 1423.42239 578.989062 \nL 1411.446085 577.842226 \nL 1423.42239 576.695391 \nL 1423.42239 561.78653 \nL 1411.446085 560.639695 \nL 1423.42239 559.492859 \nL 1423.42239 558.346024 \nL 1411.446085 557.199188 \nL 1423.42239 556.052353 \nL 1423.42239 550.318176 \nL 1411.446085 549.17134 \nL 1423.42239 548.024505 \nL 1423.42239 536.55615 \nL 1411.446085 535.409315 \nL 1423.42239 534.262479 \nL 1423.42239 533.115644 \nL 1411.446085 531.968808 \nL 1423.42239 530.821973 \nL 1411.446085 529.675138 \nL 1423.42239 528.528302 \nL 1411.446085 527.381467 \nL 1423.42239 526.234631 \nL 1423.42239 515.913112 \nL 1411.446085 514.766277 \nL 1411.446085 509.0321 \nL 1399.46978 507.885264 \nL 1411.446085 506.738429 \nL 1411.446085 502.151087 \nL 1399.46978 501.004252 \nL 1411.446085 499.857416 \nL 1411.446085 497.563745 \nL 1399.46978 496.41691 \nL 1411.446085 495.270074 \nL 1399.46978 494.123239 \nL 1423.42239 491.829568 \nL 1423.42239 490.682733 \nL 1411.446085 489.535897 \nL 1411.446085 486.095391 \nL 1399.46978 484.948555 \nL 1423.42239 483.80172 \nL 1411.446085 482.654884 \nL 1411.446085 480.361214 \nL 1399.46978 479.214378 \nL 1399.46978 478.067543 \nL 1411.446085 476.920707 \nL 1411.446085 474.627036 \nL 1399.46978 473.480201 \nL 1411.446085 472.333365 \nL 1411.446085 453.983998 \nL 1399.46978 452.837163 \nL 1411.446085 451.690327 \nL 1411.446085 442.515644 \nL 1399.46978 441.368808 \nL 1399.46978 440.221973 \nL 1411.446085 439.075138 \nL 1411.446085 437.928302 \nL 1399.46978 436.781467 \nL 1411.446085 435.634631 \nL 1411.446085 428.753619 \nL 1399.46978 427.606783 \nL 1411.446085 426.459948 \nL 1399.46978 425.313112 \nL 1399.46978 424.166277 \nL 1411.446085 423.019441 \nL 1411.446085 411.551087 \nL 1399.46978 410.404252 \nL 1411.446085 409.257416 \nL 1411.446085 405.81691 \nL 1399.46978 404.670074 \nL 1411.446085 403.523239 \nL 1411.446085 401.229568 \nL 1399.46978 400.082733 \nL 1399.46978 398.935897 \nL 1411.446085 397.789062 \nL 1411.446085 396.642226 \nL 1399.46978 395.495391 \nL 1399.46978 394.348555 \nL 1411.446085 393.20172 \nL 1399.46978 392.054884 \nL 1411.446085 390.908049 \nL 1411.446085 389.761214 \nL 1399.46978 388.614378 \nL 1411.446085 387.467543 \nL 1411.446085 384.027036 \nL 1399.46978 382.880201 \nL 1399.46978 381.733365 \nL 1423.42239 380.58653 \nL 1411.446085 379.439695 \nL 1411.446085 374.852353 \nL 1399.46978 373.705517 \nL 1399.46978 372.558682 \nL 1411.446085 371.411846 \nL 1411.446085 366.824505 \nL 1399.46978 365.677669 \nL 1399.46978 363.383998 \nL 1411.446085 362.237163 \nL 1411.446085 350.768808 \nL 1399.46978 349.621973 \nL 1411.446085 348.475138 \nL 1411.446085 343.887796 \nL 1423.42239 342.74096 \nL 1423.42239 341.594125 \nL 1399.46978 340.44729 \nL 1411.446085 339.300454 \nL 1411.446085 332.419441 \nL 1399.46978 331.272606 \nL 1399.46978 330.125771 \nL 1411.446085 328.978935 \nL 1411.446085 320.951087 \nL 1399.46978 319.804252 \nL 1411.446085 318.657416 \nL 1411.446085 311.776403 \nL 1423.42239 310.629568 \nL 1411.446085 309.482733 \nL 1411.446085 293.427036 \nL 1399.46978 292.280201 \nL 1411.446085 291.133365 \nL 1411.446085 288.839695 \nL 1399.46978 287.692859 \nL 1399.46978 286.546024 \nL 1411.446085 285.399188 \nL 1411.446085 283.105517 \nL 1399.46978 281.958682 \nL 1399.46978 280.811846 \nL 1411.446085 279.665011 \nL 1399.46978 278.518176 \nL 1411.446085 277.37134 \nL 1411.446085 271.637163 \nL 1399.46978 270.490327 \nL 1411.446085 269.343492 \nL 1411.446085 263.609315 \nL 1387.493475 262.462479 \nL 1399.46978 261.315644 \nL 1399.46978 253.287796 \nL 1387.493475 252.14096 \nL 1399.46978 250.994125 \nL 1399.46978 242.966277 \nL 1387.493475 241.819441 \nL 1399.46978 240.672606 \nL 1399.46978 238.378935 \nL 1387.493475 237.2321 \nL 1399.46978 236.085264 \nL 1387.493475 234.938429 \nL 1399.46978 233.791593 \nL 1387.493475 232.644758 \nL 1399.46978 231.497922 \nL 1387.493475 230.351087 \nL 1399.46978 229.204252 \nL 1399.46978 224.61691 \nL 1387.493475 223.470074 \nL 1387.493475 222.323239 \nL 1399.46978 221.176403 \nL 1387.493475 220.029568 \nL 1387.493475 218.882733 \nL 1399.46978 217.735897 \nL 1399.46978 216.589062 \nL 1387.493475 215.442226 \nL 1399.46978 214.295391 \nL 1399.46978 212.00172 \nL 1387.493475 210.854884 \nL 1399.46978 209.708049 \nL 1387.493475 208.561214 \nL 1399.46978 207.414378 \nL 1399.46978 206.267543 \nL 1387.493475 205.120707 \nL 1399.46978 203.973872 \nL 1399.46978 202.827036 \nL 1387.493475 201.680201 \nL 1387.493475 199.38653 \nL 1399.46978 198.239695 \nL 1399.46978 193.652353 \nL 1387.493475 192.505517 \nL 1399.46978 191.358682 \nL 1399.46978 190.211846 \nL 1387.493475 189.065011 \nL 1399.46978 187.918176 \nL 1387.493475 186.77134 \nL 1399.46978 185.624505 \nL 1399.46978 184.477669 \nL 1387.493475 183.330834 \nL 1399.46978 182.183998 \nL 1387.493475 181.037163 \nL 1399.46978 179.890327 \nL 1387.493475 178.743492 \nL 1399.46978 177.596657 \nL 1399.46978 174.15615 \nL 1387.493475 173.009315 \nL 1399.46978 171.862479 \nL 1387.493475 170.715644 \nL 1387.493475 168.421973 \nL 1399.46978 167.275138 \nL 1399.46978 166.128302 \nL 1387.493475 164.981467 \nL 1399.46978 163.834631 \nL 1399.46978 161.54096 \nL 1387.493475 160.394125 \nL 1399.46978 159.24729 \nL 1399.46978 158.100454 \nL 1387.493475 156.953619 \nL 1387.493475 154.659948 \nL 1399.46978 153.513112 \nL 1399.46978 139.751087 \nL 1387.493475 138.604252 \nL 1399.46978 137.457416 \nL 1387.493475 136.310581 \nL 1399.46978 135.163745 \nL 1387.493475 134.01691 \nL 1399.46978 132.870074 \nL 1387.493475 131.723239 \nL 1387.493475 129.429568 \nL 1399.46978 128.282733 \nL 1399.46978 121.40172 \nL 1387.493475 120.254884 \nL 1399.46978 119.108049 \nL 1399.46978 114.520707 \nL 1387.493475 113.373872 \nL 1399.46978 112.227036 \nL 1399.46978 107.639695 \nL 1387.493475 106.492859 \nL 1387.493475 105.346024 \nL 1399.46978 104.199188 \nL 1399.46978 100.758682 \nL 1387.493475 99.611846 \nL 1387.493475 98.465011 \nL 1399.46978 97.318176 \nL 1399.46978 93.877669 \nL 1387.493475 92.730834 \nL 1387.493475 91.583998 \nL 1387.493475 91.583998 \n\" style=\"fill:none;stroke:#404040;stroke-linecap:square;stroke-width:1.5;\"/>\n   </g>\n   <g id=\"line2d_2\">\n    <defs>\n     <path d=\"M 0 2.5 \nC 0.663008 2.5 1.29895 2.236584 1.767767 1.767767 \nC 2.236584 1.29895 2.5 0.663008 2.5 0 \nC 2.5 -0.663008 2.236584 -1.29895 1.767767 -1.767767 \nC 1.29895 -2.236584 0.663008 -2.5 0 -2.5 \nC -0.663008 -2.5 -1.29895 -2.236584 -1.767767 -1.767767 \nC -2.236584 -1.29895 -2.5 -0.663008 -2.5 0 \nC -2.5 0.663008 -2.236584 1.29895 -1.767767 1.767767 \nC -1.29895 2.236584 -0.663008 2.5 0 2.5 \nz\n\" id=\"mb3c29e5a1c\" style=\"stroke:#404040;\"/>\n    </defs>\n    <g clip-path=\"url(#p1cd90a54bb)\">\n     <use style=\"fill:#404040;stroke:#404040;\" x=\"1387.493475\" xlink:href=\"#mb3c29e5a1c\" y=\"262.462479\"/>\n    </g>\n   </g>\n   <g id=\"line2d_3\">\n    <g clip-path=\"url(#p1cd90a54bb)\">\n     <use style=\"fill:#404040;stroke:#404040;\" x=\"1423.42239\" xlink:href=\"#mb3c29e5a1c\" y=\"635.183998\"/>\n    </g>\n   </g>\n   <g id=\"text_1\">\n    <!-- 6 -->\n    <defs>\n     <path d=\"M 33.015625 40.375 \nQ 26.375 40.375 22.484375 35.828125 \nQ 18.609375 31.296875 18.609375 23.390625 \nQ 18.609375 15.53125 22.484375 10.953125 \nQ 26.375 6.390625 33.015625 6.390625 \nQ 39.65625 6.390625 43.53125 10.953125 \nQ 47.40625 15.53125 47.40625 23.390625 \nQ 47.40625 31.296875 43.53125 35.828125 \nQ 39.65625 40.375 33.015625 40.375 \nz\nM 52.59375 71.296875 \nL 52.59375 62.3125 \nQ 48.875 64.0625 45.09375 64.984375 \nQ 41.3125 65.921875 37.59375 65.921875 \nQ 27.828125 65.921875 22.671875 59.328125 \nQ 17.53125 52.734375 16.796875 39.40625 \nQ 19.671875 43.65625 24.015625 45.921875 \nQ 28.375 48.1875 33.59375 48.1875 \nQ 44.578125 48.1875 50.953125 41.515625 \nQ 57.328125 34.859375 57.328125 23.390625 \nQ 57.328125 12.15625 50.6875 5.359375 \nQ 44.046875 -1.421875 33.015625 -1.421875 \nQ 20.359375 -1.421875 13.671875 8.265625 \nQ 6.984375 17.96875 6.984375 36.375 \nQ 6.984375 53.65625 15.1875 63.9375 \nQ 23.390625 74.21875 37.203125 74.21875 \nQ 40.921875 74.21875 44.703125 73.484375 \nQ 48.484375 72.75 52.59375 71.296875 \nz\n\" id=\"DejaVuSans-54\"/>\n    </defs>\n    <g transform=\"translate(1447.375 639.047123)scale(0.14 -0.14)\">\n     <use xlink:href=\"#DejaVuSans-54\"/>\n    </g>\n   </g>\n   <g id=\"text_2\">\n    <!-- 3 -->\n    <defs>\n     <path d=\"M 40.578125 39.3125 \nQ 47.65625 37.796875 51.625 33 \nQ 55.609375 28.21875 55.609375 21.1875 \nQ 55.609375 10.40625 48.1875 4.484375 \nQ 40.765625 -1.421875 27.09375 -1.421875 \nQ 22.515625 -1.421875 17.65625 -0.515625 \nQ 12.796875 0.390625 7.625 2.203125 \nL 7.625 11.71875 \nQ 11.71875 9.328125 16.59375 8.109375 \nQ 21.484375 6.890625 26.8125 6.890625 \nQ 36.078125 6.890625 40.9375 10.546875 \nQ 45.796875 14.203125 45.796875 21.1875 \nQ 45.796875 27.640625 41.28125 31.265625 \nQ 36.765625 34.90625 28.71875 34.90625 \nL 20.21875 34.90625 \nL 20.21875 43.015625 \nL 29.109375 43.015625 \nQ 36.375 43.015625 40.234375 45.921875 \nQ 44.09375 48.828125 44.09375 54.296875 \nQ 44.09375 59.90625 40.109375 62.90625 \nQ 36.140625 65.921875 28.71875 65.921875 \nQ 24.65625 65.921875 20.015625 65.03125 \nQ 15.375 64.15625 9.8125 62.3125 \nL 9.8125 71.09375 \nQ 15.4375 72.65625 20.34375 73.4375 \nQ 25.25 74.21875 29.59375 74.21875 \nQ 40.828125 74.21875 47.359375 69.109375 \nQ 53.90625 64.015625 53.90625 55.328125 \nQ 53.90625 49.265625 50.4375 45.09375 \nQ 46.96875 40.921875 40.578125 39.3125 \nz\n\" id=\"DejaVuSans-51\"/>\n    </defs>\n    <g transform=\"translate(1354.633365 266.325604)scale(0.14 -0.14)\">\n     <use xlink:href=\"#DejaVuSans-51\"/>\n    </g>\n   </g>\n  </g>\n  <g id=\"axes_2\">\n   <g id=\"patch_3\">\n    <path d=\"M 52.375 635.183998 \nL 1309.887019 635.183998 \nL 1309.887019 91.583998 \nL 52.375 91.583998 \nz\n\" style=\"fill:#ffffff;\"/>\n   </g>\n   <g clip-path=\"url(#p1d85b93da1)\">\n    <image height=\"475\" id=\"imagec1ede7dfbe\" transform=\"matrix(209.666667 0 0 1.145263 52.375 91.183998)\" width=\"6\" xlink:href=\"data:image/png;base64,\niVBORw0KGgoAAAANSUhEUgAAAAYAAAHbCAYAAADoG+sNAAAABHNCSVQICAgIfAhkiAAAASdJREFUaIHtmEESwyAIRdNcDI6em9FVZ1z4p9IyCEhWnb4Agh+jXiIiRCREJJ/fIiL3BZ6bmecAWujB8zxKi3NHBQEcbo/KAOjFAAHMXF8rD4vpvw2mwEMl+uCGU2sYI2ZH6YNDkKydkwWHrgxBlXaO+ZnYupboM9e7ghaGIOYik0w+MUEnOD7MnGm41sH1wLBrYQyPdt4aPObUVgcvIpKvFuOkxcyjvq6S7Zb0ACW4JlEI3LVbXomGYOuxzxDkak7cUWMea40T83rH0JXH1J67I+vFch14XL0kK3vMiy1okQxUUcm5YOvtILSwC/7DTsZBu5YnlqXqjjlhV1X2DBDEHBUCf6okM9Af9T0spq8buyoPktWqVZIddNkblAPJPpDlgUet1DHeleAcDSswWYkAAAAASUVORK5CYII=\"/>\n   </g>\n   <g id=\"matplotlib.axis_3\">\n    <g id=\"xtick_1\">\n     <g id=\"text_3\">\n      <!-- location -->\n      <defs>\n       <path d=\"M 9.421875 75.984375 \nL 18.40625 75.984375 \nL 18.40625 0 \nL 9.421875 0 \nz\n\" id=\"DejaVuSans-108\"/>\n       <path d=\"M 30.609375 48.390625 \nQ 23.390625 48.390625 19.1875 42.75 \nQ 14.984375 37.109375 14.984375 27.296875 \nQ 14.984375 17.484375 19.15625 11.84375 \nQ 23.34375 6.203125 30.609375 6.203125 \nQ 37.796875 6.203125 41.984375 11.859375 \nQ 46.1875 17.53125 46.1875 27.296875 \nQ 46.1875 37.015625 41.984375 42.703125 \nQ 37.796875 48.390625 30.609375 48.390625 \nz\nM 30.609375 56 \nQ 42.328125 56 49.015625 48.375 \nQ 55.71875 40.765625 55.71875 27.296875 \nQ 55.71875 13.875 49.015625 6.21875 \nQ 42.328125 -1.421875 30.609375 -1.421875 \nQ 18.84375 -1.421875 12.171875 6.21875 \nQ 5.515625 13.875 5.515625 27.296875 \nQ 5.515625 40.765625 12.171875 48.375 \nQ 18.84375 56 30.609375 56 \nz\n\" id=\"DejaVuSans-111\"/>\n       <path d=\"M 48.78125 52.59375 \nL 48.78125 44.1875 \nQ 44.96875 46.296875 41.140625 47.34375 \nQ 37.3125 48.390625 33.40625 48.390625 \nQ 24.65625 48.390625 19.8125 42.84375 \nQ 14.984375 37.3125 14.984375 27.296875 \nQ 14.984375 17.28125 19.8125 11.734375 \nQ 24.65625 6.203125 33.40625 6.203125 \nQ 37.3125 6.203125 41.140625 7.25 \nQ 44.96875 8.296875 48.78125 10.40625 \nL 48.78125 2.09375 \nQ 45.015625 0.34375 40.984375 -0.53125 \nQ 36.96875 -1.421875 32.421875 -1.421875 \nQ 20.0625 -1.421875 12.78125 6.34375 \nQ 5.515625 14.109375 5.515625 27.296875 \nQ 5.515625 40.671875 12.859375 48.328125 \nQ 20.21875 56 33.015625 56 \nQ 37.15625 56 41.109375 55.140625 \nQ 45.0625 54.296875 48.78125 52.59375 \nz\n\" id=\"DejaVuSans-99\"/>\n       <path d=\"M 34.28125 27.484375 \nQ 23.390625 27.484375 19.1875 25 \nQ 14.984375 22.515625 14.984375 16.5 \nQ 14.984375 11.71875 18.140625 8.90625 \nQ 21.296875 6.109375 26.703125 6.109375 \nQ 34.1875 6.109375 38.703125 11.40625 \nQ 43.21875 16.703125 43.21875 25.484375 \nL 43.21875 27.484375 \nz\nM 52.203125 31.203125 \nL 52.203125 0 \nL 43.21875 0 \nL 43.21875 8.296875 \nQ 40.140625 3.328125 35.546875 0.953125 \nQ 30.953125 -1.421875 24.3125 -1.421875 \nQ 15.921875 -1.421875 10.953125 3.296875 \nQ 6 8.015625 6 15.921875 \nQ 6 25.140625 12.171875 29.828125 \nQ 18.359375 34.515625 30.609375 34.515625 \nL 43.21875 34.515625 \nL 43.21875 35.40625 \nQ 43.21875 41.609375 39.140625 45 \nQ 35.0625 48.390625 27.6875 48.390625 \nQ 23 48.390625 18.546875 47.265625 \nQ 14.109375 46.140625 10.015625 43.890625 \nL 10.015625 52.203125 \nQ 14.9375 54.109375 19.578125 55.046875 \nQ 24.21875 56 28.609375 56 \nQ 40.484375 56 46.34375 49.84375 \nQ 52.203125 43.703125 52.203125 31.203125 \nz\n\" id=\"DejaVuSans-97\"/>\n       <path d=\"M 18.3125 70.21875 \nL 18.3125 54.6875 \nL 36.8125 54.6875 \nL 36.8125 47.703125 \nL 18.3125 47.703125 \nL 18.3125 18.015625 \nQ 18.3125 11.328125 20.140625 9.421875 \nQ 21.96875 7.515625 27.59375 7.515625 \nL 36.8125 7.515625 \nL 36.8125 0 \nL 27.59375 0 \nQ 17.1875 0 13.234375 3.875 \nQ 9.28125 7.765625 9.28125 18.015625 \nL 9.28125 47.703125 \nL 2.6875 47.703125 \nL 2.6875 54.6875 \nL 9.28125 54.6875 \nL 9.28125 70.21875 \nz\n\" id=\"DejaVuSans-116\"/>\n       <path d=\"M 9.421875 54.6875 \nL 18.40625 54.6875 \nL 18.40625 0 \nL 9.421875 0 \nz\nM 9.421875 75.984375 \nL 18.40625 75.984375 \nL 18.40625 64.59375 \nL 9.421875 64.59375 \nz\n\" id=\"DejaVuSans-105\"/>\n       <path d=\"M 54.890625 33.015625 \nL 54.890625 0 \nL 45.90625 0 \nL 45.90625 32.71875 \nQ 45.90625 40.484375 42.875 44.328125 \nQ 39.84375 48.1875 33.796875 48.1875 \nQ 26.515625 48.1875 22.3125 43.546875 \nQ 18.109375 38.921875 18.109375 30.90625 \nL 18.109375 0 \nL 9.078125 0 \nL 9.078125 54.6875 \nL 18.109375 54.6875 \nL 18.109375 46.1875 \nQ 21.34375 51.125 25.703125 53.5625 \nQ 30.078125 56 35.796875 56 \nQ 45.21875 56 50.046875 50.171875 \nQ 54.890625 44.34375 54.890625 33.015625 \nz\n\" id=\"DejaVuSans-110\"/>\n      </defs>\n      <g transform=\"translate(165.764319 82.231101)rotate(-45)scale(0.16 -0.16)\">\n       <use xlink:href=\"#DejaVuSans-108\"/>\n       <use x=\"27.783203\" xlink:href=\"#DejaVuSans-111\"/>\n       <use x=\"88.964844\" xlink:href=\"#DejaVuSans-99\"/>\n       <use x=\"143.945312\" xlink:href=\"#DejaVuSans-97\"/>\n       <use x=\"205.224609\" xlink:href=\"#DejaVuSans-116\"/>\n       <use x=\"244.433594\" xlink:href=\"#DejaVuSans-105\"/>\n       <use x=\"272.216797\" xlink:href=\"#DejaVuSans-111\"/>\n       <use x=\"333.398438\" xlink:href=\"#DejaVuSans-110\"/>\n      </g>\n     </g>\n    </g>\n    <g id=\"xtick_2\">\n     <g id=\"text_4\">\n      <!-- followers -->\n      <defs>\n       <path d=\"M 37.109375 75.984375 \nL 37.109375 68.5 \nL 28.515625 68.5 \nQ 23.6875 68.5 21.796875 66.546875 \nQ 19.921875 64.59375 19.921875 59.515625 \nL 19.921875 54.6875 \nL 34.71875 54.6875 \nL 34.71875 47.703125 \nL 19.921875 47.703125 \nL 19.921875 0 \nL 10.890625 0 \nL 10.890625 47.703125 \nL 2.296875 47.703125 \nL 2.296875 54.6875 \nL 10.890625 54.6875 \nL 10.890625 58.5 \nQ 10.890625 67.625 15.140625 71.796875 \nQ 19.390625 75.984375 28.609375 75.984375 \nz\n\" id=\"DejaVuSans-102\"/>\n       <path d=\"M 4.203125 54.6875 \nL 13.1875 54.6875 \nL 24.421875 12.015625 \nL 35.59375 54.6875 \nL 46.1875 54.6875 \nL 57.421875 12.015625 \nL 68.609375 54.6875 \nL 77.59375 54.6875 \nL 63.28125 0 \nL 52.6875 0 \nL 40.921875 44.828125 \nL 29.109375 0 \nL 18.5 0 \nz\n\" id=\"DejaVuSans-119\"/>\n       <path d=\"M 56.203125 29.59375 \nL 56.203125 25.203125 \nL 14.890625 25.203125 \nQ 15.484375 15.921875 20.484375 11.0625 \nQ 25.484375 6.203125 34.421875 6.203125 \nQ 39.59375 6.203125 44.453125 7.46875 \nQ 49.3125 8.734375 54.109375 11.28125 \nL 54.109375 2.78125 \nQ 49.265625 0.734375 44.1875 -0.34375 \nQ 39.109375 -1.421875 33.890625 -1.421875 \nQ 20.796875 -1.421875 13.15625 6.1875 \nQ 5.515625 13.8125 5.515625 26.8125 \nQ 5.515625 40.234375 12.765625 48.109375 \nQ 20.015625 56 32.328125 56 \nQ 43.359375 56 49.78125 48.890625 \nQ 56.203125 41.796875 56.203125 29.59375 \nz\nM 47.21875 32.234375 \nQ 47.125 39.59375 43.09375 43.984375 \nQ 39.0625 48.390625 32.421875 48.390625 \nQ 24.90625 48.390625 20.390625 44.140625 \nQ 15.875 39.890625 15.1875 32.171875 \nz\n\" id=\"DejaVuSans-101\"/>\n       <path d=\"M 41.109375 46.296875 \nQ 39.59375 47.171875 37.8125 47.578125 \nQ 36.03125 48 33.890625 48 \nQ 26.265625 48 22.1875 43.046875 \nQ 18.109375 38.09375 18.109375 28.8125 \nL 18.109375 0 \nL 9.078125 0 \nL 9.078125 54.6875 \nL 18.109375 54.6875 \nL 18.109375 46.1875 \nQ 20.953125 51.171875 25.484375 53.578125 \nQ 30.03125 56 36.53125 56 \nQ 37.453125 56 38.578125 55.875 \nQ 39.703125 55.765625 41.0625 55.515625 \nz\n\" id=\"DejaVuSans-114\"/>\n       <path d=\"M 44.28125 53.078125 \nL 44.28125 44.578125 \nQ 40.484375 46.53125 36.375 47.5 \nQ 32.28125 48.484375 27.875 48.484375 \nQ 21.1875 48.484375 17.84375 46.4375 \nQ 14.5 44.390625 14.5 40.28125 \nQ 14.5 37.15625 16.890625 35.375 \nQ 19.28125 33.59375 26.515625 31.984375 \nL 29.59375 31.296875 \nQ 39.15625 29.25 43.1875 25.515625 \nQ 47.21875 21.78125 47.21875 15.09375 \nQ 47.21875 7.46875 41.1875 3.015625 \nQ 35.15625 -1.421875 24.609375 -1.421875 \nQ 20.21875 -1.421875 15.453125 -0.5625 \nQ 10.6875 0.296875 5.421875 2 \nL 5.421875 11.28125 \nQ 10.40625 8.6875 15.234375 7.390625 \nQ 20.0625 6.109375 24.8125 6.109375 \nQ 31.15625 6.109375 34.5625 8.28125 \nQ 37.984375 10.453125 37.984375 14.40625 \nQ 37.984375 18.0625 35.515625 20.015625 \nQ 33.0625 21.96875 24.703125 23.78125 \nL 21.578125 24.515625 \nQ 13.234375 26.265625 9.515625 29.90625 \nQ 5.8125 33.546875 5.8125 39.890625 \nQ 5.8125 47.609375 11.28125 51.796875 \nQ 16.75 56 26.8125 56 \nQ 31.78125 56 36.171875 55.265625 \nQ 40.578125 54.546875 44.28125 53.078125 \nz\n\" id=\"DejaVuSans-115\"/>\n      </defs>\n      <g transform=\"translate(375.349655 82.231101)rotate(-45)scale(0.16 -0.16)\">\n       <use xlink:href=\"#DejaVuSans-102\"/>\n       <use x=\"35.205078\" xlink:href=\"#DejaVuSans-111\"/>\n       <use x=\"96.386719\" xlink:href=\"#DejaVuSans-108\"/>\n       <use x=\"124.169922\" xlink:href=\"#DejaVuSans-108\"/>\n       <use x=\"151.953125\" xlink:href=\"#DejaVuSans-111\"/>\n       <use x=\"213.134766\" xlink:href=\"#DejaVuSans-119\"/>\n       <use x=\"294.921875\" xlink:href=\"#DejaVuSans-101\"/>\n       <use x=\"356.445312\" xlink:href=\"#DejaVuSans-114\"/>\n       <use x=\"397.558594\" xlink:href=\"#DejaVuSans-115\"/>\n      </g>\n     </g>\n    </g>\n    <g id=\"xtick_3\">\n     <g id=\"text_5\">\n      <!-- comments -->\n      <defs>\n       <path d=\"M 52 44.1875 \nQ 55.375 50.25 60.0625 53.125 \nQ 64.75 56 71.09375 56 \nQ 79.640625 56 84.28125 50.015625 \nQ 88.921875 44.046875 88.921875 33.015625 \nL 88.921875 0 \nL 79.890625 0 \nL 79.890625 32.71875 \nQ 79.890625 40.578125 77.09375 44.375 \nQ 74.3125 48.1875 68.609375 48.1875 \nQ 61.625 48.1875 57.5625 43.546875 \nQ 53.515625 38.921875 53.515625 30.90625 \nL 53.515625 0 \nL 44.484375 0 \nL 44.484375 32.71875 \nQ 44.484375 40.625 41.703125 44.40625 \nQ 38.921875 48.1875 33.109375 48.1875 \nQ 26.21875 48.1875 22.15625 43.53125 \nQ 18.109375 38.875 18.109375 30.90625 \nL 18.109375 0 \nL 9.078125 0 \nL 9.078125 54.6875 \nL 18.109375 54.6875 \nL 18.109375 46.1875 \nQ 21.1875 51.21875 25.484375 53.609375 \nQ 29.78125 56 35.6875 56 \nQ 41.65625 56 45.828125 52.96875 \nQ 50 49.953125 52 44.1875 \nz\n\" id=\"DejaVuSans-109\"/>\n      </defs>\n      <g transform=\"translate(584.934992 82.231101)rotate(-45)scale(0.16 -0.16)\">\n       <use xlink:href=\"#DejaVuSans-99\"/>\n       <use x=\"54.980469\" xlink:href=\"#DejaVuSans-111\"/>\n       <use x=\"116.162109\" xlink:href=\"#DejaVuSans-109\"/>\n       <use x=\"213.574219\" xlink:href=\"#DejaVuSans-109\"/>\n       <use x=\"310.986328\" xlink:href=\"#DejaVuSans-101\"/>\n       <use x=\"372.509766\" xlink:href=\"#DejaVuSans-110\"/>\n       <use x=\"435.888672\" xlink:href=\"#DejaVuSans-116\"/>\n       <use x=\"475.097656\" xlink:href=\"#DejaVuSans-115\"/>\n      </g>\n     </g>\n    </g>\n    <g id=\"xtick_4\">\n     <g id=\"text_6\">\n      <!-- coordinates -->\n      <defs>\n       <path d=\"M 45.40625 46.390625 \nL 45.40625 75.984375 \nL 54.390625 75.984375 \nL 54.390625 0 \nL 45.40625 0 \nL 45.40625 8.203125 \nQ 42.578125 3.328125 38.25 0.953125 \nQ 33.9375 -1.421875 27.875 -1.421875 \nQ 17.96875 -1.421875 11.734375 6.484375 \nQ 5.515625 14.40625 5.515625 27.296875 \nQ 5.515625 40.1875 11.734375 48.09375 \nQ 17.96875 56 27.875 56 \nQ 33.9375 56 38.25 53.625 \nQ 42.578125 51.265625 45.40625 46.390625 \nz\nM 14.796875 27.296875 \nQ 14.796875 17.390625 18.875 11.75 \nQ 22.953125 6.109375 30.078125 6.109375 \nQ 37.203125 6.109375 41.296875 11.75 \nQ 45.40625 17.390625 45.40625 27.296875 \nQ 45.40625 37.203125 41.296875 42.84375 \nQ 37.203125 48.484375 30.078125 48.484375 \nQ 22.953125 48.484375 18.875 42.84375 \nQ 14.796875 37.203125 14.796875 27.296875 \nz\n\" id=\"DejaVuSans-100\"/>\n      </defs>\n      <g transform=\"translate(794.520329 82.231101)rotate(-45)scale(0.16 -0.16)\">\n       <use xlink:href=\"#DejaVuSans-99\"/>\n       <use x=\"54.980469\" xlink:href=\"#DejaVuSans-111\"/>\n       <use x=\"116.162109\" xlink:href=\"#DejaVuSans-111\"/>\n       <use x=\"177.34375\" xlink:href=\"#DejaVuSans-114\"/>\n       <use x=\"218.441406\" xlink:href=\"#DejaVuSans-100\"/>\n       <use x=\"281.917969\" xlink:href=\"#DejaVuSans-105\"/>\n       <use x=\"309.701172\" xlink:href=\"#DejaVuSans-110\"/>\n       <use x=\"373.080078\" xlink:href=\"#DejaVuSans-97\"/>\n       <use x=\"434.359375\" xlink:href=\"#DejaVuSans-116\"/>\n       <use x=\"473.568359\" xlink:href=\"#DejaVuSans-101\"/>\n       <use x=\"535.091797\" xlink:href=\"#DejaVuSans-115\"/>\n      </g>\n     </g>\n    </g>\n    <g id=\"xtick_5\">\n     <g id=\"text_7\">\n      <!-- language -->\n      <defs>\n       <path d=\"M 45.40625 27.984375 \nQ 45.40625 37.75 41.375 43.109375 \nQ 37.359375 48.484375 30.078125 48.484375 \nQ 22.859375 48.484375 18.828125 43.109375 \nQ 14.796875 37.75 14.796875 27.984375 \nQ 14.796875 18.265625 18.828125 12.890625 \nQ 22.859375 7.515625 30.078125 7.515625 \nQ 37.359375 7.515625 41.375 12.890625 \nQ 45.40625 18.265625 45.40625 27.984375 \nz\nM 54.390625 6.78125 \nQ 54.390625 -7.171875 48.1875 -13.984375 \nQ 42 -20.796875 29.203125 -20.796875 \nQ 24.46875 -20.796875 20.265625 -20.09375 \nQ 16.0625 -19.390625 12.109375 -17.921875 \nL 12.109375 -9.1875 \nQ 16.0625 -11.328125 19.921875 -12.34375 \nQ 23.78125 -13.375 27.78125 -13.375 \nQ 36.625 -13.375 41.015625 -8.765625 \nQ 45.40625 -4.15625 45.40625 5.171875 \nL 45.40625 9.625 \nQ 42.625 4.78125 38.28125 2.390625 \nQ 33.9375 0 27.875 0 \nQ 17.828125 0 11.671875 7.65625 \nQ 5.515625 15.328125 5.515625 27.984375 \nQ 5.515625 40.671875 11.671875 48.328125 \nQ 17.828125 56 27.875 56 \nQ 33.9375 56 38.28125 53.609375 \nQ 42.625 51.21875 45.40625 46.390625 \nL 45.40625 54.6875 \nL 54.390625 54.6875 \nz\n\" id=\"DejaVuSans-103\"/>\n       <path d=\"M 8.5 21.578125 \nL 8.5 54.6875 \nL 17.484375 54.6875 \nL 17.484375 21.921875 \nQ 17.484375 14.15625 20.5 10.265625 \nQ 23.53125 6.390625 29.59375 6.390625 \nQ 36.859375 6.390625 41.078125 11.03125 \nQ 45.3125 15.671875 45.3125 23.6875 \nL 45.3125 54.6875 \nL 54.296875 54.6875 \nL 54.296875 0 \nL 45.3125 0 \nL 45.3125 8.40625 \nQ 42.046875 3.421875 37.71875 1 \nQ 33.40625 -1.421875 27.6875 -1.421875 \nQ 18.265625 -1.421875 13.375 4.4375 \nQ 8.5 10.296875 8.5 21.578125 \nz\nM 31.109375 56 \nz\n\" id=\"DejaVuSans-117\"/>\n      </defs>\n      <g transform=\"translate(1004.105665 82.231101)rotate(-45)scale(0.16 -0.16)\">\n       <use xlink:href=\"#DejaVuSans-108\"/>\n       <use x=\"27.783203\" xlink:href=\"#DejaVuSans-97\"/>\n       <use x=\"89.0625\" xlink:href=\"#DejaVuSans-110\"/>\n       <use x=\"152.441406\" xlink:href=\"#DejaVuSans-103\"/>\n       <use x=\"215.917969\" xlink:href=\"#DejaVuSans-117\"/>\n       <use x=\"279.296875\" xlink:href=\"#DejaVuSans-97\"/>\n       <use x=\"340.576172\" xlink:href=\"#DejaVuSans-103\"/>\n       <use x=\"404.052734\" xlink:href=\"#DejaVuSans-101\"/>\n      </g>\n     </g>\n    </g>\n    <g id=\"xtick_6\">\n     <g id=\"text_8\">\n      <!-- geometry -->\n      <defs>\n       <path d=\"M 32.171875 -5.078125 \nQ 28.375 -14.84375 24.75 -17.8125 \nQ 21.140625 -20.796875 15.09375 -20.796875 \nL 7.90625 -20.796875 \nL 7.90625 -13.28125 \nL 13.1875 -13.28125 \nQ 16.890625 -13.28125 18.9375 -11.515625 \nQ 21 -9.765625 23.484375 -3.21875 \nL 25.09375 0.875 \nL 2.984375 54.6875 \nL 12.5 54.6875 \nL 29.59375 11.921875 \nL 46.6875 54.6875 \nL 56.203125 54.6875 \nz\n\" id=\"DejaVuSans-121\"/>\n      </defs>\n      <g transform=\"translate(1213.691002 82.231101)rotate(-45)scale(0.16 -0.16)\">\n       <use xlink:href=\"#DejaVuSans-103\"/>\n       <use x=\"63.476562\" xlink:href=\"#DejaVuSans-101\"/>\n       <use x=\"125\" xlink:href=\"#DejaVuSans-111\"/>\n       <use x=\"186.181641\" xlink:href=\"#DejaVuSans-109\"/>\n       <use x=\"283.59375\" xlink:href=\"#DejaVuSans-101\"/>\n       <use x=\"345.117188\" xlink:href=\"#DejaVuSans-116\"/>\n       <use x=\"384.326172\" xlink:href=\"#DejaVuSans-114\"/>\n       <use x=\"425.439453\" xlink:href=\"#DejaVuSans-121\"/>\n      </g>\n     </g>\n    </g>\n   </g>\n   <g id=\"matplotlib.axis_4\">\n    <g id=\"ytick_1\">\n     <g id=\"text_9\">\n      <!-- 1 -->\n      <defs>\n       <path d=\"M 12.40625 8.296875 \nL 28.515625 8.296875 \nL 28.515625 63.921875 \nL 10.984375 60.40625 \nL 10.984375 69.390625 \nL 28.421875 72.90625 \nL 38.28125 72.90625 \nL 38.28125 8.296875 \nL 54.390625 8.296875 \nL 54.390625 0 \nL 12.40625 0 \nz\n\" id=\"DejaVuSans-49\"/>\n      </defs>\n      <g transform=\"translate(32.65 99.754646)scale(0.2 -0.2)\">\n       <use xlink:href=\"#DejaVuSans-49\"/>\n      </g>\n     </g>\n    </g>\n    <g id=\"ytick_2\">\n     <g id=\"text_10\">\n      <!-- 475 -->\n      <defs>\n       <path d=\"M 37.796875 64.3125 \nL 12.890625 25.390625 \nL 37.796875 25.390625 \nz\nM 35.203125 72.90625 \nL 47.609375 72.90625 \nL 47.609375 25.390625 \nL 58.015625 25.390625 \nL 58.015625 17.1875 \nL 47.609375 17.1875 \nL 47.609375 0 \nL 37.796875 0 \nL 37.796875 17.1875 \nL 4.890625 17.1875 \nL 4.890625 26.703125 \nz\n\" id=\"DejaVuSans-52\"/>\n       <path d=\"M 8.203125 72.90625 \nL 55.078125 72.90625 \nL 55.078125 68.703125 \nL 28.609375 0 \nL 18.3125 0 \nL 43.21875 64.59375 \nL 8.203125 64.59375 \nz\n\" id=\"DejaVuSans-55\"/>\n       <path d=\"M 10.796875 72.90625 \nL 49.515625 72.90625 \nL 49.515625 64.59375 \nL 19.828125 64.59375 \nL 19.828125 46.734375 \nQ 21.96875 47.46875 24.109375 47.828125 \nQ 26.265625 48.1875 28.421875 48.1875 \nQ 40.625 48.1875 47.75 41.5 \nQ 54.890625 34.8125 54.890625 23.390625 \nQ 54.890625 11.625 47.5625 5.09375 \nQ 40.234375 -1.421875 26.90625 -1.421875 \nQ 22.3125 -1.421875 17.546875 -0.640625 \nQ 12.796875 0.140625 7.71875 1.703125 \nL 7.71875 11.625 \nQ 12.109375 9.234375 16.796875 8.0625 \nQ 21.484375 6.890625 26.703125 6.890625 \nQ 35.15625 6.890625 40.078125 11.328125 \nQ 45.015625 15.765625 45.015625 23.390625 \nQ 45.015625 31 40.078125 35.4375 \nQ 35.15625 39.890625 26.703125 39.890625 \nQ 22.75 39.890625 18.8125 39.015625 \nQ 14.890625 38.140625 10.796875 36.28125 \nz\n\" id=\"DejaVuSans-53\"/>\n      </defs>\n      <g transform=\"translate(7.2 642.210225)scale(0.2 -0.2)\">\n       <use xlink:href=\"#DejaVuSans-52\"/>\n       <use x=\"63.623047\" xlink:href=\"#DejaVuSans-55\"/>\n       <use x=\"127.246094\" xlink:href=\"#DejaVuSans-53\"/>\n      </g>\n     </g>\n    </g>\n   </g>\n   <g id=\"line2d_4\">\n    <path clip-path=\"url(#p1d85b93da1)\" d=\"M 261.960337 635.183998 \nL 261.960337 91.583998 \n\" style=\"fill:none;stroke:#ffffff;stroke-linecap:square;stroke-width:1.5;\"/>\n   </g>\n   <g id=\"line2d_5\">\n    <path clip-path=\"url(#p1d85b93da1)\" d=\"M 471.545673 635.183998 \nL 471.545673 91.583998 \n\" style=\"fill:none;stroke:#ffffff;stroke-linecap:square;stroke-width:1.5;\"/>\n   </g>\n   <g id=\"line2d_6\">\n    <path clip-path=\"url(#p1d85b93da1)\" d=\"M 681.13101 635.183998 \nL 681.13101 91.583998 \n\" style=\"fill:none;stroke:#ffffff;stroke-linecap:square;stroke-width:1.5;\"/>\n   </g>\n   <g id=\"line2d_7\">\n    <path clip-path=\"url(#p1d85b93da1)\" d=\"M 890.716346 635.183998 \nL 890.716346 91.583998 \n\" style=\"fill:none;stroke:#ffffff;stroke-linecap:square;stroke-width:1.5;\"/>\n   </g>\n   <g id=\"line2d_8\">\n    <path clip-path=\"url(#p1d85b93da1)\" d=\"M 1100.301683 635.183998 \nL 1100.301683 91.583998 \n\" style=\"fill:none;stroke:#ffffff;stroke-linecap:square;stroke-width:1.5;\"/>\n   </g>\n  </g>\n </g>\n <defs>\n  <clipPath id=\"p1cd90a54bb\">\n   <rect height=\"543.6\" width=\"83.834135\" x=\"1363.540865\" y=\"91.583998\"/>\n  </clipPath>\n  <clipPath id=\"p1d85b93da1\">\n   <rect height=\"543.6\" width=\"1257.512019\" x=\"52.375\" y=\"91.583998\"/>\n  </clipPath>\n </defs>\n</svg>\n",
      "image/png": "[encoded data removed]"
     },
     "metadata": {
      "needs_background": "light"
     }
    }
   ],
   "source": [
    "msno.matrix(data);"
   ]
  },
  {
   "cell_type": "code",
   "execution_count": 84,
   "metadata": {},
   "outputs": [
    {
     "output_type": "execute_result",
     "data": {
      "text/plain": [
       "                           location  followers  \\\n",
       "191                       Catalunya        184   \n",
       "218          London, United Kingdom     138031   \n",
       "219              Barcelona, Espanya        445   \n",
       "252                  Red Sea, Egypt       1867   \n",
       "342                       Barcelona        267   \n",
       "..                              ...        ...   \n",
       "470                       BARCELONA         60   \n",
       "471                Timmins, Ontario       1702   \n",
       "472           Sant Cugat del Vallés        244   \n",
       "473                             NaN        138   \n",
       "474  Torelló/Sant Cugat , Barcelona       2972   \n",
       "\n",
       "                                              comments  \\\n",
       "191  Tant enyorada... en el Camp d'en Grassot i Gra...   \n",
       "218  #Germany’s confirmed coronavirus cases increas...   \n",
       "219  ≈40,9 km (intensitat 3/10, superfície 0.1/10)\\...   \n",
       "252  #insta #suez #happy #vacation #coursetraining ...   \n",
       "342  Acaba de publicar una foto en Centre Cívic Sag...   \n",
       "..                                                 ...   \n",
       "470  Barcelona, pásalo ⭐ ⭐ ⭐ ⭐ ⭐ ⭐ @bcnlegendz cuan...   \n",
       "471  Province reports 1,708 new, confirmed COVID-19...   \n",
       "472  #hoy a portarse bien! #sardinas #comida #food ...   \n",
       "473  Los arcos de Ca L’Alemany #calalemany en Ca l'...   \n",
       "474  Just posted a photo @ Sant Cugat del Vallès ht...   \n",
       "\n",
       "                     coordinates language  \\\n",
       "191    [41.40468875, 2.16672453]       ca   \n",
       "218   [51.50538967, -0.12485951]       en   \n",
       "219        [41.383333, 2.183333]       ca   \n",
       "252           [29.9722, 32.5491]       en   \n",
       "342     [41.40589451, 2.1765811]       ca   \n",
       "..                           ...      ...   \n",
       "470            [41.3684, 2.1162]       es   \n",
       "471  [48.47593351, -81.32806152]       en   \n",
       "472            [41.3894, 2.1683]       es   \n",
       "473        [41.459335, 2.232254]       ca   \n",
       "474            [41.4706, 2.0852]       ca   \n",
       "\n",
       "                                              geometry  \n",
       "191  [[[2.052477, 41.317048], [2.052477, 41.468266]...  \n",
       "218  [[[-0.187894, 51.483718], [-0.187894, 51.51646...  \n",
       "219  [[[2.052477, 41.317048], [2.052477, 41.468266]...  \n",
       "252  [[[31.860555, 28.965008], [31.860555, 30.30367...  \n",
       "342  [[[2.052477, 41.317048], [2.052477, 41.468266]...  \n",
       "..                                                 ...  \n",
       "470  [[[2.086323, 41.336062], [2.086323, 41.380548]...  \n",
       "471  [[[-81.729849, 48.2768], [-81.729849, 48.71218...  \n",
       "472  [[[2.052477, 41.317048], [2.052477, 41.468266]...  \n",
       "473  [[[2.211092, 41.42594], [2.211092, 41.492681],...  \n",
       "474  [[[1.999829, 41.415036], [1.999829, 41.519488]...  \n",
       "\n",
       "[113 rows x 6 columns]"
      ],
      "text/html": "<div>\n<style scoped>\n    .dataframe tbody tr th:only-of-type {\n        vertical-align: middle;\n    }\n\n    .dataframe tbody tr th {\n        vertical-align: top;\n    }\n\n    .dataframe thead th {\n        text-align: right;\n    }\n</style>\n<table border=\"1\" class=\"dataframe\">\n  <thead>\n    <tr style=\"text-align: right;\">\n      <th></th>\n      <th>location</th>\n      <th>followers</th>\n      <th>comments</th>\n      <th>coordinates</th>\n      <th>language</th>\n      <th>geometry</th>\n    </tr>\n  </thead>\n  <tbody>\n    <tr>\n      <th>191</th>\n      <td>Catalunya</td>\n      <td>184</td>\n      <td>Tant enyorada... en el Camp d'en Grassot i Gra...</td>\n      <td>[41.40468875, 2.16672453]</td>\n      <td>ca</td>\n      <td>[[[2.052477, 41.317048], [2.052477, 41.468266]...</td>\n    </tr>\n    <tr>\n      <th>218</th>\n      <td>London, United Kingdom</td>\n      <td>138031</td>\n      <td>#Germany’s confirmed coronavirus cases increas...</td>\n      <td>[51.50538967, -0.12485951]</td>\n      <td>en</td>\n      <td>[[[-0.187894, 51.483718], [-0.187894, 51.51646...</td>\n    </tr>\n    <tr>\n      <th>219</th>\n      <td>Barcelona, Espanya</td>\n      <td>445</td>\n      <td>≈40,9 km (intensitat 3/10, superfície 0.1/10)\\...</td>\n      <td>[41.383333, 2.183333]</td>\n      <td>ca</td>\n      <td>[[[2.052477, 41.317048], [2.052477, 41.468266]...</td>\n    </tr>\n    <tr>\n      <th>252</th>\n      <td>Red Sea, Egypt</td>\n      <td>1867</td>\n      <td>#insta #suez #happy #vacation #coursetraining ...</td>\n      <td>[29.9722, 32.5491]</td>\n      <td>en</td>\n      <td>[[[31.860555, 28.965008], [31.860555, 30.30367...</td>\n    </tr>\n    <tr>\n      <th>342</th>\n      <td>Barcelona</td>\n      <td>267</td>\n      <td>Acaba de publicar una foto en Centre Cívic Sag...</td>\n      <td>[41.40589451, 2.1765811]</td>\n      <td>ca</td>\n      <td>[[[2.052477, 41.317048], [2.052477, 41.468266]...</td>\n    </tr>\n    <tr>\n      <th>...</th>\n      <td>...</td>\n      <td>...</td>\n      <td>...</td>\n      <td>...</td>\n      <td>...</td>\n      <td>...</td>\n    </tr>\n    <tr>\n      <th>470</th>\n      <td>BARCELONA</td>\n      <td>60</td>\n      <td>Barcelona, pásalo ⭐ ⭐ ⭐ ⭐ ⭐ ⭐ @bcnlegendz cuan...</td>\n      <td>[41.3684, 2.1162]</td>\n      <td>es</td>\n      <td>[[[2.086323, 41.336062], [2.086323, 41.380548]...</td>\n    </tr>\n    <tr>\n      <th>471</th>\n      <td>Timmins, Ontario</td>\n      <td>1702</td>\n      <td>Province reports 1,708 new, confirmed COVID-19...</td>\n      <td>[48.47593351, -81.32806152]</td>\n      <td>en</td>\n      <td>[[[-81.729849, 48.2768], [-81.729849, 48.71218...</td>\n    </tr>\n    <tr>\n      <th>472</th>\n      <td>Sant Cugat del Vallés</td>\n      <td>244</td>\n      <td>#hoy a portarse bien! #sardinas #comida #food ...</td>\n      <td>[41.3894, 2.1683]</td>\n      <td>es</td>\n      <td>[[[2.052477, 41.317048], [2.052477, 41.468266]...</td>\n    </tr>\n    <tr>\n      <th>473</th>\n      <td>NaN</td>\n      <td>138</td>\n      <td>Los arcos de Ca L’Alemany #calalemany en Ca l'...</td>\n      <td>[41.459335, 2.232254]</td>\n      <td>ca</td>\n      <td>[[[2.211092, 41.42594], [2.211092, 41.492681],...</td>\n    </tr>\n    <tr>\n      <th>474</th>\n      <td>Torelló/Sant Cugat , Barcelona</td>\n      <td>2972</td>\n      <td>Just posted a photo @ Sant Cugat del Vallès ht...</td>\n      <td>[41.4706, 2.0852]</td>\n      <td>ca</td>\n      <td>[[[1.999829, 41.415036], [1.999829, 41.519488]...</td>\n    </tr>\n  </tbody>\n</table>\n<p>113 rows × 6 columns</p>\n</div>"
     },
     "metadata": {},
     "execution_count": 84
    }
   ],
   "source": [
    "data[~data.coordinates.isnull()]"
   ]
  },
  {
   "cell_type": "code",
   "execution_count": 86,
   "metadata": {
    "tags": []
   },
   "outputs": [
    {
     "output_type": "execute_result",
     "data": {
      "text/plain": [
       "                           location  followers  \\\n",
       "470                       BARCELONA         60   \n",
       "471                Timmins, Ontario       1702   \n",
       "472           Sant Cugat del Vallés        244   \n",
       "473                             NaN        138   \n",
       "474  Torelló/Sant Cugat , Barcelona       2972   \n",
       "\n",
       "                                   comments                  coordinates  \\\n",
       "470                          pásalo cierren            [41.3684, 2.1162]   \n",
       "471  province reports confirmed cases today  [48.47593351, -81.32806152]   \n",
       "472                                portarse            [41.3894, 2.1683]   \n",
       "473                         los arcos ca ca        [41.459335, 2.232254]   \n",
       "474     just posted photo sant cugat vallès            [41.4706, 2.0852]   \n",
       "\n",
       "    language                                           geometry  \n",
       "470       es  [[[2.086323, 41.336062], [2.086323, 41.380548]...  \n",
       "471       en  [[[-81.729849, 48.2768], [-81.729849, 48.71218...  \n",
       "472       es  [[[2.052477, 41.317048], [2.052477, 41.468266]...  \n",
       "473       ca  [[[2.211092, 41.42594], [2.211092, 41.492681],...  \n",
       "474       ca  [[[1.999829, 41.415036], [1.999829, 41.519488]...  "
      ],
      "text/html": "<div>\n<style scoped>\n    .dataframe tbody tr th:only-of-type {\n        vertical-align: middle;\n    }\n\n    .dataframe tbody tr th {\n        vertical-align: top;\n    }\n\n    .dataframe thead th {\n        text-align: right;\n    }\n</style>\n<table border=\"1\" class=\"dataframe\">\n  <thead>\n    <tr style=\"text-align: right;\">\n      <th></th>\n      <th>location</th>\n      <th>followers</th>\n      <th>comments</th>\n      <th>coordinates</th>\n      <th>language</th>\n      <th>geometry</th>\n    </tr>\n  </thead>\n  <tbody>\n    <tr>\n      <th>470</th>\n      <td>BARCELONA</td>\n      <td>60</td>\n      <td>pásalo cierren</td>\n      <td>[41.3684, 2.1162]</td>\n      <td>es</td>\n      <td>[[[2.086323, 41.336062], [2.086323, 41.380548]...</td>\n    </tr>\n    <tr>\n      <th>471</th>\n      <td>Timmins, Ontario</td>\n      <td>1702</td>\n      <td>province reports confirmed cases today</td>\n      <td>[48.47593351, -81.32806152]</td>\n      <td>en</td>\n      <td>[[[-81.729849, 48.2768], [-81.729849, 48.71218...</td>\n    </tr>\n    <tr>\n      <th>472</th>\n      <td>Sant Cugat del Vallés</td>\n      <td>244</td>\n      <td>portarse</td>\n      <td>[41.3894, 2.1683]</td>\n      <td>es</td>\n      <td>[[[2.052477, 41.317048], [2.052477, 41.468266]...</td>\n    </tr>\n    <tr>\n      <th>473</th>\n      <td>NaN</td>\n      <td>138</td>\n      <td>los arcos ca ca</td>\n      <td>[41.459335, 2.232254]</td>\n      <td>ca</td>\n      <td>[[[2.211092, 41.42594], [2.211092, 41.492681],...</td>\n    </tr>\n    <tr>\n      <th>474</th>\n      <td>Torelló/Sant Cugat , Barcelona</td>\n      <td>2972</td>\n      <td>just posted photo sant cugat vallès</td>\n      <td>[41.4706, 2.0852]</td>\n      <td>ca</td>\n      <td>[[[1.999829, 41.415036], [1.999829, 41.519488]...</td>\n    </tr>\n  </tbody>\n</table>\n</div>"
     },
     "metadata": {},
     "execution_count": 86
    }
   ],
   "source": [
    "d = data.copy()\n",
    "\n",
    "for i, comm in enumerate(d[\"language\"]):\n",
    "    if d[\"language\"][i] == \"en\":\n",
    "        d[\"comments\"][i] = clean_en_text(d[\"comments\"][i])\n",
    "    elif d[\"language\"][i] == \"es\":\n",
    "        d[\"comments\"][i] = clean_es_text(d[\"comments\"][i])\n",
    "    elif d[\"language\"][i] == \"ca\":\n",
    "        d[\"comments\"][i] = clean_es_text(d[\"comments\"][i])\n",
    "\n",
    "d.tail()"
   ]
  },
  {
   "cell_type": "code",
   "execution_count": 99,
   "metadata": {},
   "outputs": [],
   "source": [
    "## CHECKING IF THE SPANISH SENTIMENT CLASSIFIER WORKS FOR CATALAN:\n",
    "# print(d[\"comments\"][27], senty_classifier_es(d[\"comments\"][27]))\n",
    "# d[d[\"language\"] == \"ca\"]\n",
    "## It does not perfectly but accurate enough."
   ]
  },
  {
   "cell_type": "code",
   "execution_count": 100,
   "metadata": {
    "tags": []
   },
   "outputs": [
    {
     "output_type": "execute_result",
     "data": {
      "text/plain": [
       "                           location  followers  \\\n",
       "470                       BARCELONA         60   \n",
       "471                Timmins, Ontario       1702   \n",
       "472           Sant Cugat del Vallés        244   \n",
       "473                             NaN        138   \n",
       "474  Torelló/Sant Cugat , Barcelona       2972   \n",
       "\n",
       "                                   comments                  coordinates  \\\n",
       "470                          pásalo cierren            [41.3684, 2.1162]   \n",
       "471  province reports confirmed cases today  [48.47593351, -81.32806152]   \n",
       "472                                portarse            [41.3894, 2.1683]   \n",
       "473                         los arcos ca ca        [41.459335, 2.232254]   \n",
       "474     just posted photo sant cugat vallès            [41.4706, 2.0852]   \n",
       "\n",
       "    language                                           geometry sentiment  \n",
       "470       es  [[[2.086323, 41.336062], [2.086323, 41.380548]...         1  \n",
       "471       en  [[[-81.729849, 48.2768], [-81.729849, 48.71218...         2  \n",
       "472       es  [[[2.052477, 41.317048], [2.052477, 41.468266]...         0  \n",
       "473       ca  [[[2.211092, 41.42594], [2.211092, 41.492681],...         2  \n",
       "474       ca  [[[1.999829, 41.415036], [1.999829, 41.519488]...         0  "
      ],
      "text/html": "<div>\n<style scoped>\n    .dataframe tbody tr th:only-of-type {\n        vertical-align: middle;\n    }\n\n    .dataframe tbody tr th {\n        vertical-align: top;\n    }\n\n    .dataframe thead th {\n        text-align: right;\n    }\n</style>\n<table border=\"1\" class=\"dataframe\">\n  <thead>\n    <tr style=\"text-align: right;\">\n      <th></th>\n      <th>location</th>\n      <th>followers</th>\n      <th>comments</th>\n      <th>coordinates</th>\n      <th>language</th>\n      <th>geometry</th>\n      <th>sentiment</th>\n    </tr>\n  </thead>\n  <tbody>\n    <tr>\n      <th>470</th>\n      <td>BARCELONA</td>\n      <td>60</td>\n      <td>pásalo cierren</td>\n      <td>[41.3684, 2.1162]</td>\n      <td>es</td>\n      <td>[[[2.086323, 41.336062], [2.086323, 41.380548]...</td>\n      <td>1</td>\n    </tr>\n    <tr>\n      <th>471</th>\n      <td>Timmins, Ontario</td>\n      <td>1702</td>\n      <td>province reports confirmed cases today</td>\n      <td>[48.47593351, -81.32806152]</td>\n      <td>en</td>\n      <td>[[[-81.729849, 48.2768], [-81.729849, 48.71218...</td>\n      <td>2</td>\n    </tr>\n    <tr>\n      <th>472</th>\n      <td>Sant Cugat del Vallés</td>\n      <td>244</td>\n      <td>portarse</td>\n      <td>[41.3894, 2.1683]</td>\n      <td>es</td>\n      <td>[[[2.052477, 41.317048], [2.052477, 41.468266]...</td>\n      <td>0</td>\n    </tr>\n    <tr>\n      <th>473</th>\n      <td>NaN</td>\n      <td>138</td>\n      <td>los arcos ca ca</td>\n      <td>[41.459335, 2.232254]</td>\n      <td>ca</td>\n      <td>[[[2.211092, 41.42594], [2.211092, 41.492681],...</td>\n      <td>2</td>\n    </tr>\n    <tr>\n      <th>474</th>\n      <td>Torelló/Sant Cugat , Barcelona</td>\n      <td>2972</td>\n      <td>just posted photo sant cugat vallès</td>\n      <td>[41.4706, 2.0852]</td>\n      <td>ca</td>\n      <td>[[[1.999829, 41.415036], [1.999829, 41.519488]...</td>\n      <td>0</td>\n    </tr>\n  </tbody>\n</table>\n</div>"
     },
     "metadata": {},
     "execution_count": 100
    }
   ],
   "source": [
    "# Filtering by language:\n",
    "\n",
    "data = d.copy()\n",
    "data[\"sentiment\"] = None\n",
    "\n",
    "for i, comm in enumerate(data[\"language\"]):\n",
    "    if data[\"language\"][i] == \"en\":\n",
    "        if max(sentiment_analyzer_scores(data[\"comments\"][i]), key=sentiment_analyzer_scores(data[\"comments\"][i]).get) == \"compound\":  # To get the key of the max value of a dictionary.\n",
    "            data[\"sentiment\"][i] = 1 # Positive comments.\n",
    "        elif sentiment_analyzer_scores(data[\"comments\"][i])[\"neg\"] > sentiment_analyzer_scores(data[\"comments\"][i])[\"neu\"] and sentiment_analyzer_scores(data[\"comments\"][i])[\"neg\"] > sentiment_analyzer_scores(data[\"comments\"][i])[\"pos\"]:\n",
    "            data[\"sentiment\"][i] = 0 # Negative commnents.\n",
    "        elif sentiment_analyzer_scores(data[\"comments\"][i])[\"neu\"] > sentiment_analyzer_scores(data[\"comments\"][i])[\"neg\"] and sentiment_analyzer_scores(data[\"comments\"][i])[\"neu\"] > sentiment_analyzer_scores(data[\"comments\"][i])[\"pos\"]:\n",
    "            data[\"sentiment\"][i] = 2 # Neutral comments\n",
    "    elif data[\"language\"][i] == \"es\":\n",
    "        data[\"sentiment\"][i] = senty_classifier_es(data[\"comments\"][i])[0]\n",
    "    elif data[\"language\"][i] == \"ca\":\n",
    "        data[\"sentiment\"][i] = senty_classifier_es(data[\"comments\"][i])[0]\n",
    "\n",
    "\n",
    "geo_data_mood = data.copy()\n",
    "data.tail()\n"
   ]
  },
  {
   "cell_type": "code",
   "execution_count": 101,
   "metadata": {
    "tags": []
   },
   "outputs": [],
   "source": [
    "# Converting \"coordinates\" data from string into Points:\n",
    "\n",
    "for idx, geo in enumerate(geo_data_mood[\"coordinates\"]):\n",
    "    if type(geo_data_mood[\"coordinates\"][idx]) != float:\n",
    "        lat, lng = map(float, geo.strip('[]').split(','))\n",
    "        geo_data_mood[\"coordinates\"][idx] = Point(lng, lat)"
   ]
  },
  {
   "cell_type": "code",
   "execution_count": 103,
   "metadata": {},
   "outputs": [
    {
     "output_type": "execute_result",
     "data": {
      "text/plain": [
       "                           location  followers  \\\n",
       "470                       BARCELONA         60   \n",
       "471                Timmins, Ontario       1702   \n",
       "472           Sant Cugat del Vallés        244   \n",
       "473                             NaN        138   \n",
       "474  Torelló/Sant Cugat , Barcelona       2972   \n",
       "\n",
       "                                   comments  \\\n",
       "470                          pásalo cierren   \n",
       "471  province reports confirmed cases today   \n",
       "472                                portarse   \n",
       "473                         los arcos ca ca   \n",
       "474     just posted photo sant cugat vallès   \n",
       "\n",
       "                                coordinates language  \\\n",
       "470                  POINT (2.1162 41.3684)       es   \n",
       "471  POINT (-81.32806152000001 48.47593351)       en   \n",
       "472                  POINT (2.1683 41.3894)       es   \n",
       "473              POINT (2.232254 41.459335)       ca   \n",
       "474                  POINT (2.0852 41.4706)       ca   \n",
       "\n",
       "                                              geometry  sentiment  \n",
       "470  [[[2.086323, 41.336062], [2.086323, 41.380548]...        1.0  \n",
       "471  [[[-81.729849, 48.2768], [-81.729849, 48.71218...        2.0  \n",
       "472  [[[2.052477, 41.317048], [2.052477, 41.468266]...        0.0  \n",
       "473  [[[2.211092, 41.42594], [2.211092, 41.492681],...        2.0  \n",
       "474  [[[1.999829, 41.415036], [1.999829, 41.519488]...        0.0  "
      ],
      "text/html": "<div>\n<style scoped>\n    .dataframe tbody tr th:only-of-type {\n        vertical-align: middle;\n    }\n\n    .dataframe tbody tr th {\n        vertical-align: top;\n    }\n\n    .dataframe thead th {\n        text-align: right;\n    }\n</style>\n<table border=\"1\" class=\"dataframe\">\n  <thead>\n    <tr style=\"text-align: right;\">\n      <th></th>\n      <th>location</th>\n      <th>followers</th>\n      <th>comments</th>\n      <th>coordinates</th>\n      <th>language</th>\n      <th>geometry</th>\n      <th>sentiment</th>\n    </tr>\n  </thead>\n  <tbody>\n    <tr>\n      <th>470</th>\n      <td>BARCELONA</td>\n      <td>60</td>\n      <td>pásalo cierren</td>\n      <td>POINT (2.1162 41.3684)</td>\n      <td>es</td>\n      <td>[[[2.086323, 41.336062], [2.086323, 41.380548]...</td>\n      <td>1.0</td>\n    </tr>\n    <tr>\n      <th>471</th>\n      <td>Timmins, Ontario</td>\n      <td>1702</td>\n      <td>province reports confirmed cases today</td>\n      <td>POINT (-81.32806152000001 48.47593351)</td>\n      <td>en</td>\n      <td>[[[-81.729849, 48.2768], [-81.729849, 48.71218...</td>\n      <td>2.0</td>\n    </tr>\n    <tr>\n      <th>472</th>\n      <td>Sant Cugat del Vallés</td>\n      <td>244</td>\n      <td>portarse</td>\n      <td>POINT (2.1683 41.3894)</td>\n      <td>es</td>\n      <td>[[[2.052477, 41.317048], [2.052477, 41.468266]...</td>\n      <td>0.0</td>\n    </tr>\n    <tr>\n      <th>473</th>\n      <td>NaN</td>\n      <td>138</td>\n      <td>los arcos ca ca</td>\n      <td>POINT (2.232254 41.459335)</td>\n      <td>ca</td>\n      <td>[[[2.211092, 41.42594], [2.211092, 41.492681],...</td>\n      <td>2.0</td>\n    </tr>\n    <tr>\n      <th>474</th>\n      <td>Torelló/Sant Cugat , Barcelona</td>\n      <td>2972</td>\n      <td>just posted photo sant cugat vallès</td>\n      <td>POINT (2.0852 41.4706)</td>\n      <td>ca</td>\n      <td>[[[1.999829, 41.415036], [1.999829, 41.519488]...</td>\n      <td>0.0</td>\n    </tr>\n  </tbody>\n</table>\n</div>"
     },
     "metadata": {},
     "execution_count": 103
    }
   ],
   "source": [
    "# CHECKPOINT\n",
    "# coronavirus_data = geo_data_mood.to_csv('coronavirus_geo_data_sentiment.csv', index = False)\n",
    "\n",
    "\n",
    "# Importing the new dataset:\n",
    "\n",
    "path_to_file3 = './data/coronavirus_geo_data_sentiment.csv'\n",
    "data = pd.read_csv(path_to_file3, encoding= \"utf-8\")\n",
    "data.tail()"
   ]
  },
  {
   "cell_type": "code",
   "execution_count": 104,
   "metadata": {
    "tags": []
   },
   "outputs": [
    {
     "output_type": "execute_result",
     "data": {
      "text/plain": [
       "                           location  followers  \\\n",
       "470                       BARCELONA         60   \n",
       "471                Timmins, Ontario       1702   \n",
       "472           Sant Cugat del Vallés        244   \n",
       "473                             NaN        138   \n",
       "474  Torelló/Sant Cugat , Barcelona       2972   \n",
       "\n",
       "                                   comments  \\\n",
       "470                          pásalo cierren   \n",
       "471  province reports confirmed cases today   \n",
       "472                                portarse   \n",
       "473                         los arcos ca ca   \n",
       "474     just posted photo sant cugat vallès   \n",
       "\n",
       "                                coordinates language  \\\n",
       "470                  POINT (2.1162 41.3684)       es   \n",
       "471  POINT (-81.32806152000001 48.47593351)       en   \n",
       "472                  POINT (2.1683 41.3894)       es   \n",
       "473              POINT (2.232254 41.459335)       ca   \n",
       "474                  POINT (2.0852 41.4706)       ca   \n",
       "\n",
       "                                              geometry  sentiment  \n",
       "470  POLYGON ((2.086323 41.336062, 2.086323 41.3805...        1.0  \n",
       "471  POLYGON ((-81.729849 48.2768, -81.729849 48.71...        2.0  \n",
       "472  POLYGON ((2.052477 41.317048, 2.052477 41.4682...        0.0  \n",
       "473  POLYGON ((2.211092 41.42594, 2.211092 41.49268...        2.0  \n",
       "474  POLYGON ((1.999829 41.415036, 1.999829 41.5194...        0.0  "
      ],
      "text/html": "<div>\n<style scoped>\n    .dataframe tbody tr th:only-of-type {\n        vertical-align: middle;\n    }\n\n    .dataframe tbody tr th {\n        vertical-align: top;\n    }\n\n    .dataframe thead th {\n        text-align: right;\n    }\n</style>\n<table border=\"1\" class=\"dataframe\">\n  <thead>\n    <tr style=\"text-align: right;\">\n      <th></th>\n      <th>location</th>\n      <th>followers</th>\n      <th>comments</th>\n      <th>coordinates</th>\n      <th>language</th>\n      <th>geometry</th>\n      <th>sentiment</th>\n    </tr>\n  </thead>\n  <tbody>\n    <tr>\n      <th>470</th>\n      <td>BARCELONA</td>\n      <td>60</td>\n      <td>pásalo cierren</td>\n      <td>POINT (2.1162 41.3684)</td>\n      <td>es</td>\n      <td>POLYGON ((2.086323 41.336062, 2.086323 41.3805...</td>\n      <td>1.0</td>\n    </tr>\n    <tr>\n      <th>471</th>\n      <td>Timmins, Ontario</td>\n      <td>1702</td>\n      <td>province reports confirmed cases today</td>\n      <td>POINT (-81.32806152000001 48.47593351)</td>\n      <td>en</td>\n      <td>POLYGON ((-81.729849 48.2768, -81.729849 48.71...</td>\n      <td>2.0</td>\n    </tr>\n    <tr>\n      <th>472</th>\n      <td>Sant Cugat del Vallés</td>\n      <td>244</td>\n      <td>portarse</td>\n      <td>POINT (2.1683 41.3894)</td>\n      <td>es</td>\n      <td>POLYGON ((2.052477 41.317048, 2.052477 41.4682...</td>\n      <td>0.0</td>\n    </tr>\n    <tr>\n      <th>473</th>\n      <td>NaN</td>\n      <td>138</td>\n      <td>los arcos ca ca</td>\n      <td>POINT (2.232254 41.459335)</td>\n      <td>ca</td>\n      <td>POLYGON ((2.211092 41.42594, 2.211092 41.49268...</td>\n      <td>2.0</td>\n    </tr>\n    <tr>\n      <th>474</th>\n      <td>Torelló/Sant Cugat , Barcelona</td>\n      <td>2972</td>\n      <td>just posted photo sant cugat vallès</td>\n      <td>POINT (2.0852 41.4706)</td>\n      <td>ca</td>\n      <td>POLYGON ((1.999829 41.415036, 1.999829 41.5194...</td>\n      <td>0.0</td>\n    </tr>\n  </tbody>\n</table>\n</div>"
     },
     "metadata": {},
     "execution_count": 104
    }
   ],
   "source": [
    "#CHECKPOINT\n",
    "geo_data = data.copy()\n",
    "\n",
    "# Converting Geometry data from strings into Polygons:\n",
    "\n",
    "for idx, geo in enumerate(geo_data[\"geometry\"]):\n",
    "    if type(geo_data[\"geometry\"][idx]) != float:\n",
    "        geo_data[\"geometry\"][idx] = geo_data[\"geometry\"][idx][1:-1].replace(\",\", \"\")\n",
    "        geo_data[\"geometry\"][idx] = geo_data[\"geometry\"][idx][1:-1].replace(\"]\", \"],\")\n",
    "        geo_data[\"geometry\"][idx] = geo_data[\"geometry\"][idx][:-1].split(\",\")\n",
    "        coordinates = []\n",
    "        for i, el in enumerate(geo_data[\"geometry\"][idx]):\n",
    "            counter = 0\n",
    "            if el in geo_data[\"geometry\"][idx][i] != \",\" and counter < 4:\n",
    "                geo_data[\"geometry\"][idx][i] = el.strip('[] ').replace(\"[\", \"\")\n",
    "                lat, lng = map(float, geo_data[\"geometry\"][idx][i].split(\" \"))\n",
    "                coordinates.append(Point(lat, lng))\n",
    "                counter += 1\n",
    "        geo_data[\"geometry\"][idx] = Polygon(coordinates)\n",
    "\n",
    "\n",
    "geo_data.tail()\n",
    "                "
   ]
  },
  {
   "cell_type": "code",
   "execution_count": 105,
   "metadata": {},
   "outputs": [],
   "source": [
    "# CHECKPOINT\n",
    "# bcn_mood_data = data.to_csv('mood_data.csv', index = False)"
   ]
  },
  {
   "cell_type": "code",
   "execution_count": 106,
   "metadata": {},
   "outputs": [
    {
     "output_type": "stream",
     "name": "stdout",
     "text": [
      "User Guide: https://docs.kepler.gl/docs/keplergl-jupyter\n"
     ]
    }
   ],
   "source": [
    "# Creating the map object:\n",
    "kepler_map = KeplerGl(height = 800)\n",
    "\n",
    "# Adding data:\n",
    "with open('./data/mood_data.csv', 'r') as f:\n",
    "    csvData = f.read()\n",
    "kepler_map.add_data(data=csvData, name='coronavirus_geo_data_sentiment')\n",
    "kepler_map.add_data(data=map_data, name='map_data')"
   ]
  },
  {
   "cell_type": "code",
   "execution_count": 107,
   "metadata": {},
   "outputs": [
    {
     "output_type": "display_data",
     "data": {
      "text/plain": "KeplerGl(data={'coronavirus_geo_data_sentiment': 'location,followers,comments,coordinates,language,geometry,se…",
      "application/vnd.jupyter.widget-view+json": {
       "version_major": 2,
       "version_minor": 0,
       "model_id": "86948cc3100b4f3685c056d2f4e02f46"
      }
     },
     "metadata": {}
    }
   ],
   "source": [
    "# Visualize the map\n",
    "kepler_map"
   ]
  },
  {
   "cell_type": "code",
   "execution_count": null,
   "metadata": {},
   "outputs": [],
   "source": [
    "#kepler_map.save_to_html(data={\"BCN MOOD\": csvData}, file_name=\"bcn_mood_map.html\")"
   ]
  }
 ]
}